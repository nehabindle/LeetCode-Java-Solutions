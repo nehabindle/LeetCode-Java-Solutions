{
 "cells": [
  {
   "cell_type": "code",
   "execution_count": 1,
   "metadata": {},
   "outputs": [],
   "source": [
    "from collections import defaultdict"
   ]
  },
  {
   "cell_type": "code",
   "execution_count": 34,
   "metadata": {
    "scrolled": true
   },
   "outputs": [
    {
     "name": "stdout",
     "output_type": "stream",
     "text": [
      "1\n",
      "2\n",
      "3\n",
      "4\n",
      "5\n",
      "6\n",
      "defaultdict(<class 'list'>, {2: [1, 4, 5], 1: [2, 3, 4], 3: [1, 4], 4: [1, 2, 3, 5], 5: [2, 4], 6: []})\n",
      "[]\n"
     ]
    }
   ],
   "source": [
    "#Initialization of all the variables    \n",
    "class Graph:\n",
    "\n",
    "    def __init__(self, vertices):\n",
    "        self.v = 1+vertices \n",
    "        self.adj_list = defaultdict(list)\n",
    "        self.parent = [-1]*self.v\n",
    "        self.low=[float('inf')]*self.v\n",
    "        self.disc=[float('inf')]*self.v\n",
    "        self.time=0\n",
    "        self.bridges=[]\n",
    "        self.visited=[False]*self.v\n",
    "        \n",
    "        \n",
    "    def add_edge(self,V,u):\n",
    "        self.adj_list[u].append(V)\n",
    "        self.adj_list[V].append(u)     \n",
    "  \n",
    "    def find_bridges(self,u):\n",
    "        self.visited[u]=True\n",
    "        self.low[u]=self.time\n",
    "        self.disc[u]=self.time\n",
    "        self.time += 1\n",
    "    \n",
    "        for V in self.adj_list[u]:\n",
    "        \n",
    "            if not self.visited[V]:\n",
    "                self.parent[V] = u\n",
    "                self.find_bridges(V)\n",
    "                self.low[u] = min(self.low[u], self.low[V])\n",
    "    \n",
    "                if self.low[V] > self.disc[u]:\n",
    "                    self.bridges.append([u,V])\n",
    "        \n",
    "            elif V!=self.parent[u]:\n",
    "                self.low[u] = min(self.low[u],self.disc[V])\n",
    "if __name__ == '__main__':\n",
    "    \n",
    "    g = Graph(6)\n",
    "    # edges = [[1, 2], [1, 3], [3, 4], [1, 4], [4, 5]]\n",
    "    # edges = [[1, 2], [1, 3], [2, 3], [3, 4], [3, 6], [4, 5], [6, 7], [6, 9], [7, 8], [8, 9]]\n",
    "#     edges = [[1, 2], [1, 3], [2, 3], [2, 4], [2, 5], [4, 6]]\n",
    "    edges = [[1, 2], [1, 3], [1,4],[2,4] ,[2,5],[3, 4], [4, 5]]\n",
    "    for i in edges:\n",
    "        g.add_edge(i[0], i[1])\n",
    "\n",
    "    for j in range(1, g.v):\n",
    "        print(j)\n",
    "        if not g.visited[j]:\n",
    "            g.find_bridges(j)\n",
    "\n",
    "    print(g.adj_list)\n",
    "    print(g.bridges)\n",
    "\n",
    "            "
   ]
  },
  {
   "cell_type": "code",
   "execution_count": null,
   "metadata": {},
   "outputs": [],
   "source": []
  },
  {
   "cell_type": "code",
   "execution_count": 13,
   "metadata": {},
   "outputs": [],
   "source": [
    "\n",
    "       "
   ]
  },
  {
   "cell_type": "code",
   "execution_count": null,
   "metadata": {},
   "outputs": [],
   "source": []
  },
  {
   "cell_type": "code",
   "execution_count": null,
   "metadata": {},
   "outputs": [],
   "source": []
  }
 ],
 "metadata": {
  "kernelspec": {
   "display_name": "Python 3",
   "language": "python",
   "name": "python3"
  },
  "language_info": {
   "codemirror_mode": {
    "name": "ipython",
    "version": 3
   },
   "file_extension": ".py",
   "mimetype": "text/x-python",
   "name": "python",
   "nbconvert_exporter": "python",
   "pygments_lexer": "ipython3",
   "version": "3.7.4"
  }
 },
 "nbformat": 4,
 "nbformat_minor": 2
}
