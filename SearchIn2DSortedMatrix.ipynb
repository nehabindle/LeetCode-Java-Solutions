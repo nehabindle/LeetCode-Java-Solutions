{
 "cells": [
  {
   "cell_type": "code",
   "execution_count": 5,
   "metadata": {},
   "outputs": [],
   "source": [
    "def positionOfTargetValue(rowCount, columnCount, matrix, targetValue):\n",
    "    if not matrix or not matrix[0]:\n",
    "        return (-1,-1)\n",
    "    i = len(matrix) - 1\n",
    "    j = 0\n",
    "    while i>-1 and j<len(matrix[0]):\n",
    "        if matrix[i][j] > targetValue:\n",
    "            i -= 1\n",
    "        elif matrix[i][j] < targetValue:\n",
    "            j+= 1\n",
    "        else:\n",
    "            return(i,j)\n",
    "        \n",
    "    return(-1,-1)"
   ]
  },
  {
   "cell_type": "code",
   "execution_count": 7,
   "metadata": {},
   "outputs": [
    {
     "name": "stdout",
     "output_type": "stream",
     "text": [
      "(0, 2)\n"
     ]
    }
   ],
   "source": [
    "if __name__ == '__main__':\n",
    "    matrix = [\n",
    "  [1,   4,  7, 11, 15],\n",
    "  [2,   5,  8, 12, 19],\n",
    "  [3,   6,  9, 16, 22],\n",
    "  [10, 13, 14, 17, 24],\n",
    "  [18, 21, 23, 26, 30]\n",
    "]\n",
    "    a=positionOfTargetValue(5,5,matrix,7)\n",
    "    print(a)"
   ]
  },
  {
   "cell_type": "code",
   "execution_count": null,
   "metadata": {},
   "outputs": [],
   "source": []
  }
 ],
 "metadata": {
  "kernelspec": {
   "display_name": "Python 3",
   "language": "python",
   "name": "python3"
  },
  "language_info": {
   "codemirror_mode": {
    "name": "ipython",
    "version": 3
   },
   "file_extension": ".py",
   "mimetype": "text/x-python",
   "name": "python",
   "nbconvert_exporter": "python",
   "pygments_lexer": "ipython3",
   "version": "3.7.4"
  }
 },
 "nbformat": 4,
 "nbformat_minor": 2
}
